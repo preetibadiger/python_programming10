{
 "cells": [
  {
   "cell_type": "code",
   "execution_count": null,
   "id": "5dc3a64e",
   "metadata": {},
   "outputs": [],
   "source": [
    "1. Write a Python program to find sum of elements in list?"
   ]
  },
  {
   "cell_type": "code",
   "execution_count": 5,
   "id": "e272b220",
   "metadata": {},
   "outputs": [
    {
     "name": "stdout",
     "output_type": "stream",
     "text": [
      "[92, 7, 9, 8, 5]\n",
      "sum of list:  121\n"
     ]
    }
   ],
   "source": [
    "list = [92, 7, 9, 8, 5]\n",
    "print(list)\n",
    "print(\"sum of list: \",sum(list))"
   ]
  },
  {
   "cell_type": "code",
   "execution_count": null,
   "id": "59112c91",
   "metadata": {},
   "outputs": [],
   "source": [
    "2. Write a Python program to Multiply all numbers in the list?"
   ]
  },
  {
   "cell_type": "code",
   "execution_count": 2,
   "id": "7abb852d",
   "metadata": {},
   "outputs": [
    {
     "name": "stdout",
     "output_type": "stream",
     "text": [
      "Enter the Size of the list: 5\n",
      "Enter 5 Elements: 1\n",
      "2\n",
      "3\n",
      "4\n",
      "5\n",
      "\n",
      "Multiplication Result = 120\n"
     ]
    }
   ],
   "source": [
    "nums = list()\n",
    "\n",
    "print(end=\"Enter the Size of the list: \")\n",
    "numsSize = int(input())\n",
    "print(end=\"Enter \" +str(numsSize)+ \" Elements: \")\n",
    "for i in range(numsSize):\n",
    "  nums.append(int(input()))\n",
    "\n",
    "mul = 1\n",
    "for i in range(numsSize):\n",
    "  mul = mul*nums[i]\n",
    "print(\"\\nMultiplication Result = \" +str(mul))"
   ]
  },
  {
   "cell_type": "markdown",
   "id": "e6cf07aa",
   "metadata": {},
   "source": [
    "3.Write a Python program to find smallest number in a list?"
   ]
  },
  {
   "cell_type": "code",
   "execution_count": 3,
   "id": "57e079e0",
   "metadata": {},
   "outputs": [
    {
     "name": "stdout",
     "output_type": "stream",
     "text": [
      "Smallest element is: 1\n"
     ]
    }
   ],
   "source": [
    "# list of numbers\n",
    "list1 = [10, 20, 1, 45, 99]\n",
    " \n",
    " \n",
    "# printing the maximum element\n",
    "print(\"Smallest element is:\", min(list1))"
   ]
  },
  {
   "cell_type": "code",
   "execution_count": null,
   "id": "d56c9a9f",
   "metadata": {},
   "outputs": [],
   "source": [
    "4. Write a Python program to find largest number in a list?"
   ]
  },
  {
   "cell_type": "code",
   "execution_count": 4,
   "id": "251721b4",
   "metadata": {},
   "outputs": [
    {
     "name": "stdout",
     "output_type": "stream",
     "text": [
      "Smallest element is: 99\n"
     ]
    }
   ],
   "source": [
    "list1 = [10, 20, 1, 45, 99]\n",
    " \n",
    " \n",
    "# printing the maximum element\n",
    "print(\"Smallest element is:\", max(list1))"
   ]
  },
  {
   "cell_type": "code",
   "execution_count": null,
   "id": "36bb9543",
   "metadata": {},
   "outputs": [],
   "source": [
    "5. Write a Python program to find second largest number in a list?"
   ]
  },
  {
   "cell_type": "code",
   "execution_count": 5,
   "id": "8eea8ae5",
   "metadata": {},
   "outputs": [
    {
     "name": "stdout",
     "output_type": "stream",
     "text": [
      "Second largest element is: 45\n"
     ]
    }
   ],
   "source": [
    "# List of numbers\n",
    "list1 = [10, 20, 20, 4, 45, 45, 45, 99, 99]\n",
    " \n",
    "# Removing duplicates from the list\n",
    "list2 = list(set(list1))\n",
    " \n",
    "# Sorting the  list\n",
    "list2.sort()\n",
    " \n",
    "# Printing the second last element\n",
    "print(\"Second largest element is:\", list2[-2])"
   ]
  },
  {
   "cell_type": "code",
   "execution_count": null,
   "id": "a5f7d42e",
   "metadata": {},
   "outputs": [],
   "source": [
    "6. Write a Python program to find N largest elements from a list?"
   ]
  },
  {
   "cell_type": "code",
   "execution_count": 15,
   "id": "21f3b24a",
   "metadata": {},
   "outputs": [
    {
     "name": "stdout",
     "output_type": "stream",
     "text": [
      "[85, 41]\n"
     ]
    }
   ],
   "source": [
    "\n",
    "# Function returns N largest elements\n",
    "def Nmaxelements(list1, N):\n",
    "    final_list = []\n",
    " \n",
    "    for i in range(0, N): \n",
    "        max1 = 0\n",
    "         \n",
    "        for j in range(len(list1)):     \n",
    "            if list1[j] > max1:\n",
    "                max1 = list1[j];\n",
    "                 \n",
    "        list1.remove(max1);\n",
    "        final_list.append(max1)\n",
    "         \n",
    "    print(final_list)\n",
    " \n",
    "# Driver code\n",
    "list1 = [2, 6, 41, 85, 0, 3, 7, 6, 10]\n",
    "N = 2\n",
    " \n",
    "# Calling the function\n",
    "Nmaxelements(list1, N)\n"
   ]
  },
  {
   "cell_type": "code",
   "execution_count": null,
   "id": "9a6eaeaa",
   "metadata": {},
   "outputs": [],
   "source": [
    "7. Write a Python program to print even numbers in a list?"
   ]
  },
  {
   "cell_type": "code",
   "execution_count": 18,
   "id": "9f075f0d",
   "metadata": {},
   "outputs": [
    {
     "name": "stdout",
     "output_type": "stream",
     "text": [
      "222 4 36 50 66 "
     ]
    }
   ],
   "source": [
    "# list of numbers\n",
    "list1 = [3, 222, 4, 45, 36, 93,50,66]\n",
    " \n",
    "# iterating each number in list\n",
    "for num in list1:\n",
    " \n",
    "    # checking condition\n",
    "    if num % 2 == 0:\n",
    "        print(num, end=\" \")"
   ]
  },
  {
   "cell_type": "code",
   "execution_count": null,
   "id": "8f7ad959",
   "metadata": {},
   "outputs": [],
   "source": [
    "8. Write a Python program to print odd numbers in a List?"
   ]
  },
  {
   "cell_type": "code",
   "execution_count": 19,
   "id": "6302c77b",
   "metadata": {},
   "outputs": [
    {
     "name": "stdout",
     "output_type": "stream",
     "text": [
      "3 45 93 "
     ]
    }
   ],
   "source": [
    "# list of numbers\n",
    "list1 = [3, 222, 4, 45, 36, 93,50,66]\n",
    " \n",
    "# iterating each number in list\n",
    "for num in list1:\n",
    " \n",
    "    # checking condition\n",
    "    if num % 2 != 0:\n",
    "        print(num, end=\" \")"
   ]
  },
  {
   "cell_type": "code",
   "execution_count": null,
   "id": "6c8d2d23",
   "metadata": {},
   "outputs": [],
   "source": [
    "9. Write a Python program to Remove empty List from List?"
   ]
  },
  {
   "cell_type": "code",
   "execution_count": 20,
   "id": "407ed9d4",
   "metadata": {},
   "outputs": [
    {
     "name": "stdout",
     "output_type": "stream",
     "text": [
      "The original list is : [5, 6, [], 3, [], [], 9]\n",
      "List after empty list removal : [5, 6, 3, 9]\n"
     ]
    }
   ],
   "source": [
    "# Initializing list\n",
    "test_list = [5, 6, [], 3, [], [], 9]\n",
    " \n",
    "# printing original list\n",
    "print(\"The original list is : \" + str(test_list))\n",
    " \n",
    "# Remove empty List from List\n",
    "while [] in test_list :\n",
    "    test_list.remove([])\n",
    " \n",
    "# printing result\n",
    "print(\"List after empty list removal : \" + str(test_list))"
   ]
  },
  {
   "cell_type": "code",
   "execution_count": null,
   "id": "00f7ded1",
   "metadata": {},
   "outputs": [],
   "source": [
    "10. Write a Python program to Cloning or Copying a list?"
   ]
  },
  {
   "cell_type": "code",
   "execution_count": 21,
   "id": "c2c4764d",
   "metadata": {},
   "outputs": [
    {
     "name": "stdout",
     "output_type": "stream",
     "text": [
      "Old List:  [1, 2, 3, 4, 5]\n",
      "New List:  [1, 2, 3, 4, 5]\n"
     ]
    }
   ],
   "source": [
    "\n",
    "my_list = [1, 2, 3, 4, 5]\n",
    "copy_list = my_list\n",
    "print('Old List: ', my_list)\n",
    "print('New List: ', copy_list)"
   ]
  },
  {
   "cell_type": "code",
   "execution_count": null,
   "id": "514e9958",
   "metadata": {},
   "outputs": [],
   "source": [
    "11. Write a Python program to Count occurrences of an element in a list?"
   ]
  },
  {
   "cell_type": "code",
   "execution_count": 25,
   "id": "b1946f99",
   "metadata": {},
   "outputs": [
    {
     "name": "stdout",
     "output_type": "stream",
     "text": [
      "3 has occurred 3 times\n"
     ]
    }
   ],
   "source": [
    "\n",
    "def countX(lst, x):\n",
    "    return lst.count(x)\n",
    " \n",
    "\n",
    "lst = [3, 6, 8, 10, 8, 3, 10, 8, 3]\n",
    "x = 3\n",
    "print('{} has occurred {} times'.format(x, countX(lst, x)))"
   ]
  },
  {
   "cell_type": "code",
   "execution_count": null,
   "id": "feb530f8",
   "metadata": {},
   "outputs": [],
   "source": []
  }
 ],
 "metadata": {
  "kernelspec": {
   "display_name": "Python 3 (ipykernel)",
   "language": "python",
   "name": "python3"
  },
  "language_info": {
   "codemirror_mode": {
    "name": "ipython",
    "version": 3
   },
   "file_extension": ".py",
   "mimetype": "text/x-python",
   "name": "python",
   "nbconvert_exporter": "python",
   "pygments_lexer": "ipython3",
   "version": "3.9.7"
  }
 },
 "nbformat": 4,
 "nbformat_minor": 5
}
